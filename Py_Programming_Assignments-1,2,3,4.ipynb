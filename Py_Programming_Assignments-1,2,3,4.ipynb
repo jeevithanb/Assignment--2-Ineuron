{
 "cells": [
  {
   "cell_type": "code",
   "execution_count": 6,
   "metadata": {},
   "outputs": [],
   "source": [
    "\n",
    "\n",
    "def fun1(Morning):\n",
    "    \n",
    "    \"\"\"Printing Hello World\"\"\"\n",
    "     try:\n",
    "        if Morning == True:\n",
    "            print('Hello World!')\n",
    "        else:\n",
    "            print('Good Night WORLD!')\n",
    "    except:\n",
    "        print('I donno ENGLISH!!!')\n",
    "    \n"
   ]
  },
  {
   "cell_type": "code",
   "execution_count": null,
   "metadata": {},
   "outputs": [],
   "source": []
  },
  {
   "cell_type": "code",
   "execution_count": 8,
   "metadata": {},
   "outputs": [
    {
     "name": "stdout",
     "output_type": "stream",
     "text": [
      "Good Night WORLD!\n"
     ]
    }
   ],
   "source": [
    "fun1(False)"
   ]
  },
  {
   "cell_type": "code",
   "execution_count": 20,
   "metadata": {},
   "outputs": [],
   "source": [
    "def fun2():\n",
    "    \"\"\"Perform arithmatic operations like addition and division\"\"\"\n",
    "    \n",
    "    try:\n",
    "        a=int(input())\n",
    "        b=int(input())\n",
    "        adding=a+b\n",
    "        print('Addition of 2 nums is :',adding)\n",
    "        div= a/b\n",
    "        print('Division of 2 nums is :',div)\n",
    "    except:\n",
    "        raise Exception('Wrong way of doing')\n",
    "    \n",
    "    "
   ]
  },
  {
   "cell_type": "code",
   "execution_count": 21,
   "metadata": {},
   "outputs": [
    {
     "name": "stdout",
     "output_type": "stream",
     "text": [
      "23\n",
      "34\n",
      "Addition of 2 nums is : 57\n",
      "Division of 2 nums is : 0.6764705882352942\n"
     ]
    }
   ],
   "source": [
    "fun2()"
   ]
  },
  {
   "cell_type": "code",
   "execution_count": 32,
   "metadata": {},
   "outputs": [],
   "source": [
    "import logging\n",
    "def fun3():\n",
    "    \n",
    "    \"\"\" Area of Triangle A= (base * height)/2\"\"\"\n",
    "    \n",
    "    try:\n",
    "        b=int(input('Enter base value :'))\n",
    "        h=int(input('Enter height value :'))\n",
    "        \n",
    "        Area = (b * h)/2\n",
    "        \n",
    "        print('Area_of_triangle :',Area)\n",
    "        \n",
    "    except Exception as e:\n",
    "        logging.exception('Check if right values entered!',e)\n",
    "        "
   ]
  },
  {
   "cell_type": "code",
   "execution_count": 33,
   "metadata": {},
   "outputs": [
    {
     "name": "stdout",
     "output_type": "stream",
     "text": [
      "Enter base value :34\n",
      "Enter height value :12\n",
      "Area_of_triangle : 204.0\n"
     ]
    }
   ],
   "source": [
    "fun3()"
   ]
  },
  {
   "cell_type": "code",
   "execution_count": 36,
   "metadata": {},
   "outputs": [],
   "source": [
    "def fun4(a,b):\n",
    "    \n",
    "    \"\"\"Swap 2 variables\"\"\"\n",
    "    \n",
    "    a,b=b,a\n",
    "    \n",
    "    return a , b\n",
    "    "
   ]
  },
  {
   "cell_type": "code",
   "execution_count": 37,
   "metadata": {},
   "outputs": [
    {
     "data": {
      "text/plain": [
       "(3, 2)"
      ]
     },
     "execution_count": 37,
     "metadata": {},
     "output_type": "execute_result"
    }
   ],
   "source": [
    "fun4(2,3)"
   ]
  },
  {
   "cell_type": "code",
   "execution_count": 40,
   "metadata": {},
   "outputs": [],
   "source": [
    "import random\n",
    "def fun5():\n",
    "    \"\"\" generate random numbers!\"\"\"\n",
    "    \n",
    "    try:\n",
    "        r=random.randint(0,9)\n",
    "        return r\n",
    "    except exception as e:\n",
    "        print(e)\n",
    "        "
   ]
  },
  {
   "cell_type": "code",
   "execution_count": 41,
   "metadata": {},
   "outputs": [
    {
     "data": {
      "text/plain": [
       "2"
      ]
     },
     "execution_count": 41,
     "metadata": {},
     "output_type": "execute_result"
    }
   ],
   "source": [
    "fun5()"
   ]
  },
  {
   "cell_type": "markdown",
   "metadata": {},
   "source": [
    "# PY-HW2"
   ]
  },
  {
   "cell_type": "code",
   "execution_count": 62,
   "metadata": {},
   "outputs": [],
   "source": [
    "def fun6():\n",
    "    \"\"\" Code to convert Kilometers to miles\"\"\"\n",
    "    # 1mile= 0.621371 * kilometer\n",
    "    \n",
    "    try:\n",
    "        kilometer = float(input('Enter the Kilometers you want to convert! :'))\n",
    "        constant_val=0.621371\n",
    "        mile= constant_val * kilometer\n",
    "        r=round(mile,2)\n",
    "        print('km to mile converted!',r,'miles')\n",
    "    except Exception as e:\n",
    "        print('Exception Occured',e)\n",
    "    \n",
    "    \n",
    "    "
   ]
  },
  {
   "cell_type": "code",
   "execution_count": 63,
   "metadata": {},
   "outputs": [
    {
     "name": "stdout",
     "output_type": "stream",
     "text": [
      "Enter the Kilometers you want to convert! :r\n",
      "Exception Occured could not convert string to float: 'r'\n"
     ]
    }
   ],
   "source": [
    "fun6()"
   ]
  },
  {
   "cell_type": "code",
   "execution_count": 68,
   "metadata": {},
   "outputs": [],
   "source": [
    "def fun7():\n",
    "    \n",
    "    \"\"\"To convert Celcius to fahrenheit\"\"\"\n",
    "    \n",
    "    # F=C * (9/5) + 32\n",
    "    \n",
    "    # C= (5/9) * (F-32)\n",
    "    \n",
    "    try:\n",
    "        Celcius = float(input('Enter temp in Celcius degree :'))\n",
    "        F = Celcius * (9/5) + 32\n",
    "        return f'Fahrenheit:{F}'\n",
    "        \n",
    "    except:\n",
    "        print('Invalid Input')\n",
    "\n",
    "    "
   ]
  },
  {
   "cell_type": "code",
   "execution_count": 69,
   "metadata": {},
   "outputs": [
    {
     "name": "stdout",
     "output_type": "stream",
     "text": [
      "Enter temp in Celcius degree :8\n"
     ]
    },
    {
     "data": {
      "text/plain": [
       "'Fahrenheit:46.4'"
      ]
     },
     "execution_count": 69,
     "metadata": {},
     "output_type": "execute_result"
    }
   ],
   "source": [
    "fun7()"
   ]
  },
  {
   "cell_type": "code",
   "execution_count": 78,
   "metadata": {},
   "outputs": [],
   "source": [
    "import calendar\n",
    "def fun8():\n",
    "    \n",
    "    \"\"\" Display Calender\"\"\"\n",
    "    try:\n",
    "        # taking user inputs for year and month\n",
    "        Year = int(input('Enter the Year:'))\n",
    "        Month = int(input('Enter the Month :'))\n",
    "        print('\\n')\n",
    "        your_calendar=calendar.month(Year,Month)\n",
    "        print(your_calendar)\n",
    "        \n",
    "    except:\n",
    "        raise Exception('Enter Valid values')"
   ]
  },
  {
   "cell_type": "code",
   "execution_count": 79,
   "metadata": {},
   "outputs": [
    {
     "name": "stdout",
     "output_type": "stream",
     "text": [
      "Enter the Year:rf\n"
     ]
    },
    {
     "ename": "Exception",
     "evalue": "Enter Valid values",
     "output_type": "error",
     "traceback": [
      "\u001b[1;31m---------------------------------------------------------------------------\u001b[0m",
      "\u001b[1;31mValueError\u001b[0m                                Traceback (most recent call last)",
      "\u001b[1;32m<ipython-input-78-d4ab15ad6894>\u001b[0m in \u001b[0;36mfun7\u001b[1;34m()\u001b[0m\n\u001b[0;32m      6\u001b[0m         \u001b[1;31m# taking user inputs for year and month\u001b[0m\u001b[1;33m\u001b[0m\u001b[1;33m\u001b[0m\u001b[1;33m\u001b[0m\u001b[0m\n\u001b[1;32m----> 7\u001b[1;33m         \u001b[0mYear\u001b[0m \u001b[1;33m=\u001b[0m \u001b[0mint\u001b[0m\u001b[1;33m(\u001b[0m\u001b[0minput\u001b[0m\u001b[1;33m(\u001b[0m\u001b[1;34m'Enter the Year:'\u001b[0m\u001b[1;33m)\u001b[0m\u001b[1;33m)\u001b[0m\u001b[1;33m\u001b[0m\u001b[1;33m\u001b[0m\u001b[0m\n\u001b[0m\u001b[0;32m      8\u001b[0m         \u001b[0mMonth\u001b[0m \u001b[1;33m=\u001b[0m \u001b[0mint\u001b[0m\u001b[1;33m(\u001b[0m\u001b[0minput\u001b[0m\u001b[1;33m(\u001b[0m\u001b[1;34m'Enter the Month :'\u001b[0m\u001b[1;33m)\u001b[0m\u001b[1;33m)\u001b[0m\u001b[1;33m\u001b[0m\u001b[1;33m\u001b[0m\u001b[0m\n",
      "\u001b[1;31mValueError\u001b[0m: invalid literal for int() with base 10: 'rf'",
      "\nDuring handling of the above exception, another exception occurred:\n",
      "\u001b[1;31mException\u001b[0m                                 Traceback (most recent call last)",
      "\u001b[1;32m<ipython-input-79-93a001626483>\u001b[0m in \u001b[0;36m<module>\u001b[1;34m\u001b[0m\n\u001b[1;32m----> 1\u001b[1;33m \u001b[0mfun7\u001b[0m\u001b[1;33m(\u001b[0m\u001b[1;33m)\u001b[0m\u001b[1;33m\u001b[0m\u001b[1;33m\u001b[0m\u001b[0m\n\u001b[0m",
      "\u001b[1;32m<ipython-input-78-d4ab15ad6894>\u001b[0m in \u001b[0;36mfun7\u001b[1;34m()\u001b[0m\n\u001b[0;32m     12\u001b[0m \u001b[1;33m\u001b[0m\u001b[0m\n\u001b[0;32m     13\u001b[0m     \u001b[1;32mexcept\u001b[0m\u001b[1;33m:\u001b[0m\u001b[1;33m\u001b[0m\u001b[1;33m\u001b[0m\u001b[0m\n\u001b[1;32m---> 14\u001b[1;33m         \u001b[1;32mraise\u001b[0m \u001b[0mException\u001b[0m\u001b[1;33m(\u001b[0m\u001b[1;34m'Enter Valid values'\u001b[0m\u001b[1;33m)\u001b[0m\u001b[1;33m\u001b[0m\u001b[1;33m\u001b[0m\u001b[0m\n\u001b[0m",
      "\u001b[1;31mException\u001b[0m: Enter Valid values"
     ]
    }
   ],
   "source": [
    "fun8()"
   ]
  },
  {
   "cell_type": "code",
   "execution_count": 92,
   "metadata": {},
   "outputs": [],
   "source": [
    "import cmath\n",
    "def fun9():\n",
    "    \n",
    "    \n",
    "    \"\"\"Quadratic Equation\"\"\"\n",
    "    \n",
    "    # ax**2 + bx + c = 0\n",
    "    # where x= -b +- (sqrt(b**2 - 4ac))/2a\n",
    "    \n",
    "    a=int(input())\n",
    "    b=int(input())\n",
    "    c=int(input())\n",
    "    \n",
    "    d=(b**2) - (4 *a*c)\n",
    "    \n",
    "    sol1=(-b+cmath.sqrt(d))/(2*a)\n",
    "    sol2=(-b-cmath.sqrt(d))/(2*a)\n",
    "    \n",
    "    print('solution 1:',sol1)\n",
    "    print('solution 2:',sol2)"
   ]
  },
  {
   "cell_type": "code",
   "execution_count": 94,
   "metadata": {},
   "outputs": [
    {
     "name": "stdout",
     "output_type": "stream",
     "text": [
      "1\n",
      "5\n",
      "6\n",
      "solution 1 (-2+0j)\n",
      "solution 2 (-3+0j)\n"
     ]
    }
   ],
   "source": [
    "fun9()"
   ]
  },
  {
   "cell_type": "code",
   "execution_count": null,
   "metadata": {},
   "outputs": [],
   "source": []
  },
  {
   "cell_type": "code",
   "execution_count": 87,
   "metadata": {},
   "outputs": [],
   "source": [
    "def fun10():\n",
    "    \n",
    "    \"\"\"Swap 2 variables without temp variable\"\"\"\n",
    "    var1=int(input())\n",
    "    var2=int(input())\n",
    "    var1,var2 = var2,var1\n",
    "    \n",
    "    return var1 , var2"
   ]
  },
  {
   "cell_type": "code",
   "execution_count": 88,
   "metadata": {},
   "outputs": [
    {
     "name": "stdout",
     "output_type": "stream",
     "text": [
      "23\n",
      "12\n"
     ]
    },
    {
     "data": {
      "text/plain": [
       "(12, 23)"
      ]
     },
     "execution_count": 88,
     "metadata": {},
     "output_type": "execute_result"
    }
   ],
   "source": [
    "fun10()"
   ]
  },
  {
   "cell_type": "markdown",
   "metadata": {},
   "source": [
    "# Py-Assignment-3"
   ]
  },
  {
   "cell_type": "code",
   "execution_count": 100,
   "metadata": {},
   "outputs": [],
   "source": [
    "import logging\n",
    "def fun11():\n",
    "    \n",
    "    \"\"\"Check whether number is positive ,Negative or Zero\"\"\"\n",
    "    try:\n",
    "        num=int(input('Enter a number : '))\n",
    "        if num ==0:\n",
    "            print('The number you entered is :',num)\n",
    "        elif num < 0:\n",
    "            print('The number u enetered is negative :',num)\n",
    "        else:\n",
    "            print('It is postive number',num)\n",
    "            \n",
    "    except Exception as e:\n",
    "        logging.exception(e)"
   ]
  },
  {
   "cell_type": "code",
   "execution_count": 101,
   "metadata": {},
   "outputs": [
    {
     "name": "stdout",
     "output_type": "stream",
     "text": [
      "Enter a number : e\n"
     ]
    },
    {
     "name": "stderr",
     "output_type": "stream",
     "text": [
      "ERROR:root:invalid literal for int() with base 10: 'e'\n",
      "Traceback (most recent call last):\n",
      "  File \"<ipython-input-100-9cd30e88eee9>\", line 6, in fun11\n",
      "    num=int(input('Enter a number : '))\n",
      "ValueError: invalid literal for int() with base 10: 'e'\n"
     ]
    }
   ],
   "source": [
    "fun11()"
   ]
  },
  {
   "cell_type": "code",
   "execution_count": 114,
   "metadata": {},
   "outputs": [],
   "source": [
    "import logging\n",
    "def fun12():\n",
    "    \n",
    "    \"\"\"Check num is odd or even \"\"\"\n",
    "    \n",
    "    num=int(input())\n",
    "    try:\n",
    "        if num % 2==0:\n",
    "            print('It is even',num)\n",
    "        else:\n",
    "            print('it is odd',num)\n",
    "            \n",
    "    except Exception as e:\n",
    "        logging.exception('Try AGAIN!!!',e)"
   ]
  },
  {
   "cell_type": "code",
   "execution_count": 117,
   "metadata": {},
   "outputs": [
    {
     "name": "stdout",
     "output_type": "stream",
     "text": [
      "1,2,3,4\n"
     ]
    },
    {
     "ename": "ValueError",
     "evalue": "invalid literal for int() with base 10: '1,2,3,4'",
     "output_type": "error",
     "traceback": [
      "\u001b[1;31m---------------------------------------------------------------------------\u001b[0m",
      "\u001b[1;31mValueError\u001b[0m                                Traceback (most recent call last)",
      "\u001b[1;32m<ipython-input-117-b150216d760a>\u001b[0m in \u001b[0;36m<module>\u001b[1;34m\u001b[0m\n\u001b[1;32m----> 1\u001b[1;33m \u001b[0mfun12\u001b[0m\u001b[1;33m(\u001b[0m\u001b[1;33m)\u001b[0m\u001b[1;33m\u001b[0m\u001b[1;33m\u001b[0m\u001b[0m\n\u001b[0m",
      "\u001b[1;32m<ipython-input-114-95500bb76843>\u001b[0m in \u001b[0;36mfun12\u001b[1;34m()\u001b[0m\n\u001b[0;32m      4\u001b[0m     \u001b[1;34m\"\"\"Check num is odd or even \"\"\"\u001b[0m\u001b[1;33m\u001b[0m\u001b[1;33m\u001b[0m\u001b[0m\n\u001b[0;32m      5\u001b[0m \u001b[1;33m\u001b[0m\u001b[0m\n\u001b[1;32m----> 6\u001b[1;33m     \u001b[0mnum\u001b[0m\u001b[1;33m=\u001b[0m\u001b[0mint\u001b[0m\u001b[1;33m(\u001b[0m\u001b[0minput\u001b[0m\u001b[1;33m(\u001b[0m\u001b[1;33m)\u001b[0m\u001b[1;33m)\u001b[0m\u001b[1;33m\u001b[0m\u001b[1;33m\u001b[0m\u001b[0m\n\u001b[0m\u001b[0;32m      7\u001b[0m     \u001b[1;32mtry\u001b[0m\u001b[1;33m:\u001b[0m\u001b[1;33m\u001b[0m\u001b[1;33m\u001b[0m\u001b[0m\n\u001b[0;32m      8\u001b[0m         \u001b[1;32mif\u001b[0m \u001b[0mnum\u001b[0m \u001b[1;33m%\u001b[0m \u001b[1;36m2\u001b[0m\u001b[1;33m==\u001b[0m\u001b[1;36m0\u001b[0m\u001b[1;33m:\u001b[0m\u001b[1;33m\u001b[0m\u001b[1;33m\u001b[0m\u001b[0m\n",
      "\u001b[1;31mValueError\u001b[0m: invalid literal for int() with base 10: '1,2,3,4'"
     ]
    }
   ],
   "source": [
    "fun12()"
   ]
  },
  {
   "cell_type": "code",
   "execution_count": 132,
   "metadata": {},
   "outputs": [],
   "source": [
    "def fun13():\n",
    "    \"\"\"Code to check if the year falls in leap year\"\"\"\n",
    "    \n",
    "    year=int(input('Enter the year: '))\n",
    "    \n",
    "    if  (year % 4 ==0) and (year % 100!=0):\n",
    "        return 'Yes its leap year'\n",
    "    elif (year % 400 == 0) and (year % 100 == 0):\n",
    "        return ' Yes! a leap year'\n",
    "    else:\n",
    "        return'Not a leap year!'"
   ]
  },
  {
   "cell_type": "code",
   "execution_count": 136,
   "metadata": {},
   "outputs": [
    {
     "name": "stdout",
     "output_type": "stream",
     "text": [
      "Enter the year: 2032\n"
     ]
    },
    {
     "data": {
      "text/plain": [
       "'Yes its leap year'"
      ]
     },
     "execution_count": 136,
     "metadata": {},
     "output_type": "execute_result"
    }
   ],
   "source": [
    "fun13()\n"
   ]
  },
  {
   "cell_type": "code",
   "execution_count": 178,
   "metadata": {},
   "outputs": [],
   "source": [
    "def fun144():\n",
    "    \"\"\" Check whether num is prime or not\"\"\"\n",
    "    \n",
    "    num=int(input())\n",
    "    \n",
    "    if num == 1: \n",
    "        print('It is prime number')\n",
    "    elif num ==2:\n",
    "        print('2 is prime num')\n",
    "        \n",
    "    elif (num > 2) % 2 != 0 :\n",
    "        print('it is prime')\n",
    "        \n",
    "    elif num % 2 == 0:\n",
    "        print(' Not prime')\n",
    "    else:\n",
    "        print('Not sure what your saying')"
   ]
  },
  {
   "cell_type": "code",
   "execution_count": 180,
   "metadata": {},
   "outputs": [
    {
     "name": "stdout",
     "output_type": "stream",
     "text": [
      "407\n",
      "it is prime\n"
     ]
    }
   ],
   "source": [
    "fun144()"
   ]
  },
  {
   "cell_type": "code",
   "execution_count": 13,
   "metadata": {},
   "outputs": [
    {
     "name": "stdout",
     "output_type": "stream",
     "text": [
      "5 2\n",
      "1\n",
      "2\n",
      "5 3\n",
      "2\n",
      "2\n",
      "5 4\n",
      "1\n",
      "2\n"
     ]
    }
   ],
   "source": [
    "num=5\n",
    "for i in range(2,num):\n",
    "    #print(num)\n",
    "    print(num,i)\n",
    "    print(num%i)\n",
    "    print(num//2)"
   ]
  },
  {
   "cell_type": "code",
   "execution_count": 9,
   "metadata": {},
   "outputs": [
    {
     "data": {
      "text/plain": [
       "1"
      ]
     },
     "execution_count": 9,
     "metadata": {},
     "output_type": "execute_result"
    }
   ],
   "source": [
    "2//2"
   ]
  },
  {
   "cell_type": "code",
   "execution_count": 12,
   "metadata": {},
   "outputs": [
    {
     "data": {
      "text/plain": [
       "1"
      ]
     },
     "execution_count": 12,
     "metadata": {},
     "output_type": "execute_result"
    }
   ],
   "source": [
    "# 5%2 "
   ]
  },
  {
   "cell_type": "code",
   "execution_count": 24,
   "metadata": {},
   "outputs": [],
   "source": [
    "def fun14():\n",
    "    \n",
    "    \"\"\"Check whether number is prime or not\"\"\"\n",
    "    \n",
    "    num= int(input())\n",
    "    \n",
    "    if num>1:\n",
    "        for i in range(2,num):\n",
    "            if (num%i) ==0:\n",
    "                print('It is not a prime number')\n",
    "                break\n",
    "        else:\n",
    "            print('it is prime')\n",
    "    \n",
    "    \n",
    "\n",
    "        "
   ]
  },
  {
   "cell_type": "code",
   "execution_count": 32,
   "metadata": {},
   "outputs": [
    {
     "name": "stdout",
     "output_type": "stream",
     "text": [
      "13\n",
      "it is prime\n"
     ]
    }
   ],
   "source": [
    "fun14()"
   ]
  },
  {
   "cell_type": "code",
   "execution_count": 5,
   "metadata": {},
   "outputs": [],
   "source": [
    "def fun15():\n",
    "    \n",
    "    \"\"\" print all prime numbers from 1-1000\"\"\"\n",
    "    \n",
    "    min_val=int(input('Enter min value :'))\n",
    "    max_val=int(input('Enter max value :'))\n",
    "    \n",
    "    for i in range(min_val,max_val+1):\n",
    "        count=0 # initializing count variable to zero\n",
    "        for j in range(2,(i//2+1)):\n",
    "            if (i%j)==0:\n",
    "                count=count+1\n",
    "                #print('i:',i,'j:',j)\n",
    "                break\n",
    "        if(count==0 and i!=0):\n",
    "            print(i , end= ' ')\n",
    "                "
   ]
  },
  {
   "cell_type": "code",
   "execution_count": 6,
   "metadata": {},
   "outputs": [
    {
     "name": "stdout",
     "output_type": "stream",
     "text": [
      "Enter min value :1\n",
      "Enter max value :100\n",
      "1 2 3 5 7 11 13 17 19 23 29 31 37 41 43 47 53 59 61 67 71 73 79 83 89 97 "
     ]
    }
   ],
   "source": [
    "fun15()"
   ]
  },
  {
   "cell_type": "markdown",
   "metadata": {},
   "source": [
    "# Py-Assignment-4"
   ]
  },
  {
   "cell_type": "code",
   "execution_count": 6,
   "metadata": {},
   "outputs": [],
   "source": [
    "import math\n",
    "def fun16_one():\n",
    "    \"\"\" Code to find factorial of a number by importing math\"\"\"\n",
    "    \n",
    "    try:\n",
    "        num=int(input('Enter a number :'))\n",
    "        factorial=math.factorial(num)\n",
    "        print(factorial)\n",
    "        \n",
    "    except Exception as e:\n",
    "        print(e)\n",
    "    "
   ]
  },
  {
   "cell_type": "code",
   "execution_count": 7,
   "metadata": {},
   "outputs": [
    {
     "name": "stdout",
     "output_type": "stream",
     "text": [
      "Enter a number :6\n",
      "720\n"
     ]
    }
   ],
   "source": [
    "fun16_one()"
   ]
  },
  {
   "cell_type": "code",
   "execution_count": 8,
   "metadata": {},
   "outputs": [
    {
     "data": {
      "text/plain": [
       "720"
      ]
     },
     "execution_count": 8,
     "metadata": {},
     "output_type": "execute_result"
    }
   ],
   "source": [
    "6*5*4*3*2*1"
   ]
  },
  {
   "cell_type": "code",
   "execution_count": 27,
   "metadata": {},
   "outputs": [],
   "source": [
    "def fun16_two():\n",
    "    \n",
    "    num=int(input())  # ask user input\n",
    "    print('You entered :',num)\n",
    "    factorial=1 # assigh value=1\n",
    "    \n",
    "    try:\n",
    "        if num>=1:\n",
    "            for i in range(1,(num+1)):\n",
    "                factorial=factorial*i\n",
    "            return f' factorial of {num} is: {factorial}'\n",
    "        \n",
    "    except Exception as e:\n",
    "        print(e)\n",
    "        \n",
    "        \n",
    "            \n",
    "            "
   ]
  },
  {
   "cell_type": "code",
   "execution_count": 28,
   "metadata": {},
   "outputs": [
    {
     "name": "stdout",
     "output_type": "stream",
     "text": [
      "5\n",
      "You entered : 5\n"
     ]
    },
    {
     "data": {
      "text/plain": [
       "' factorial of 5 is: 120'"
      ]
     },
     "execution_count": 28,
     "metadata": {},
     "output_type": "execute_result"
    }
   ],
   "source": [
    "fun16_two()"
   ]
  },
  {
   "cell_type": "code",
   "execution_count": 36,
   "metadata": {},
   "outputs": [],
   "source": [
    "def fun17():\n",
    "    \"\"\"Multiplication Table\"\"\"\n",
    "    try:\n",
    "        multiple= int(input(''))\n",
    "        print('Multiples of :',multiple)\n",
    "        \n",
    "        for i in range(1,21):\n",
    "            print(f'{multiple} * {i} = ',multiple * i )\n",
    "        \n",
    "    except Exception as e:\n",
    "        print(e)\n",
    "    "
   ]
  },
  {
   "cell_type": "code",
   "execution_count": 37,
   "metadata": {},
   "outputs": [
    {
     "name": "stdout",
     "output_type": "stream",
     "text": [
      "er\n",
      "invalid literal for int() with base 10: 'er'\n"
     ]
    }
   ],
   "source": [
    "fun17()"
   ]
  },
  {
   "cell_type": "code",
   "execution_count": 51,
   "metadata": {},
   "outputs": [],
   "source": [
    "def fun18():\n",
    "    \n",
    "    \"\"\" fibonacci sequence\"\"\"\n",
    "    \n",
    "    a=1\n",
    "    b=1\n",
    "    n=int(input())\n",
    "    for i in range(n):\n",
    "        a,b=b,a+b\n",
    "    yield a\n",
    "  "
   ]
  },
  {
   "cell_type": "code",
   "execution_count": 52,
   "metadata": {},
   "outputs": [
    {
     "data": {
      "text/plain": [
       "<generator object fun18 at 0x000001428D1F7AC0>"
      ]
     },
     "execution_count": 52,
     "metadata": {},
     "output_type": "execute_result"
    }
   ],
   "source": [
    "fun18()"
   ]
  },
  {
   "cell_type": "code",
   "execution_count": 53,
   "metadata": {},
   "outputs": [
    {
     "name": "stdout",
     "output_type": "stream",
     "text": [
      "7\n",
      "fibonacci sequence : 21\n"
     ]
    }
   ],
   "source": [
    "for i in fun18():\n",
    "    print('fibonacci sequence :',i)\n",
    "   "
   ]
  },
  {
   "cell_type": "code",
   "execution_count": 10,
   "metadata": {},
   "outputs": [],
   "source": [
    "def fun19():\n",
    "    \n",
    "    \"\"\"Code for Armstrong number\"\"\"\n",
    "    \n",
    "    num=int(input())  # ask user input \n",
    "    temp=num  # assign user enetered value to atemporary variable\n",
    "    sum_n=0 #initialize sum =0\n",
    "    order=len(str(num)) # find the len of number\n",
    "    \n",
    "    while temp > 0:  # loop through the condition \n",
    "        new_num= temp % 10\n",
    "        sum_n = sum_n + new_num **order   # main logic \n",
    "        temp = temp //10\n",
    "        \n",
    "    if num==sum_n:  # check if sum_n is equal to user eneterd number\n",
    "        print('yes')\n",
    "    else:\n",
    "        print('No')\n",
    "    \n",
    "    \n",
    "     \n",
    "            \n",
    "        \n",
    "        \n",
    "                \n",
    "       \n",
    "    \n",
    "   "
   ]
  },
  {
   "cell_type": "code",
   "execution_count": 12,
   "metadata": {},
   "outputs": [
    {
     "name": "stdout",
     "output_type": "stream",
     "text": [
      "407\n",
      "yes\n"
     ]
    }
   ],
   "source": [
    "fun19()"
   ]
  },
  {
   "cell_type": "code",
   "execution_count": 1,
   "metadata": {},
   "outputs": [
    {
     "data": {
      "text/plain": [
       "4"
      ]
     },
     "execution_count": 1,
     "metadata": {},
     "output_type": "execute_result"
    }
   ],
   "source": [
    "1634 % 10  # gives remainder"
   ]
  },
  {
   "cell_type": "code",
   "execution_count": 2,
   "metadata": {},
   "outputs": [
    {
     "data": {
      "text/plain": [
       "256"
      ]
     },
     "execution_count": 2,
     "metadata": {},
     "output_type": "execute_result"
    }
   ],
   "source": [
    "4**4 # gives quotient"
   ]
  },
  {
   "cell_type": "code",
   "execution_count": 3,
   "metadata": {},
   "outputs": [
    {
     "data": {
      "text/plain": [
       "163"
      ]
     },
     "execution_count": 3,
     "metadata": {},
     "output_type": "execute_result"
    }
   ],
   "source": [
    "1634//10"
   ]
  },
  {
   "cell_type": "code",
   "execution_count": 5,
   "metadata": {},
   "outputs": [
    {
     "data": {
      "text/plain": [
       "25"
      ]
     },
     "execution_count": 5,
     "metadata": {},
     "output_type": "execute_result"
    }
   ],
   "source": [
    "256//10"
   ]
  },
  {
   "cell_type": "code",
   "execution_count": 1,
   "metadata": {},
   "outputs": [],
   "source": [
    "def fun20():\n",
    "    \n",
    "    \"\"\" Program to find Armstrong number in an interval\"\"\"\n",
    "    \n",
    "    n1=int(input('Enter the first num :'))\n",
    "    n2=int(input('Enter the last num :'))\n",
    "    \n",
    "    for i in range(n1 ,n2+1):\n",
    "        \n",
    "        p = len(str(i))\n",
    "        sum_n = 0\n",
    "        temp = i\n",
    "        \n",
    "        while temp > 0:\n",
    "            \n",
    "            digit = temp % 10\n",
    "            sum_n = sum_n + digit**p\n",
    "            temp = temp //10\n",
    "            \n",
    "        if i==sum_n:\n",
    "            print(i)\n",
    "            \n",
    "    "
   ]
  },
  {
   "cell_type": "code",
   "execution_count": 3,
   "metadata": {},
   "outputs": [
    {
     "name": "stdout",
     "output_type": "stream",
     "text": [
      "Enter the first num :1\n",
      "Enter the last num :200\n",
      "1\n",
      "2\n",
      "3\n",
      "4\n",
      "5\n",
      "6\n",
      "7\n",
      "8\n",
      "9\n",
      "153\n"
     ]
    }
   ],
   "source": [
    "fun20()"
   ]
  },
  {
   "cell_type": "code",
   "execution_count": null,
   "metadata": {},
   "outputs": [],
   "source": []
  },
  {
   "cell_type": "code",
   "execution_count": 1,
   "metadata": {},
   "outputs": [],
   "source": [
    "def fun21():\n",
    "    \"\"\"Program to find sum of natural numbers\"\"\"\n",
    "    \n",
    "    num=int(input('Enter a positive num :'))\n",
    "    sum_n=0\n",
    "    \n",
    "    while num !=0:\n",
    "        sum_n = sum_n + num\n",
    "        num= num-1\n",
    "    print(sum_n)\n",
    "    \n",
    "    if num < 0:\n",
    "        print('Enter a postive number > 0')\n",
    "        "
   ]
  },
  {
   "cell_type": "code",
   "execution_count": 2,
   "metadata": {},
   "outputs": [
    {
     "name": "stdout",
     "output_type": "stream",
     "text": [
      "Enter a positive num :6\n",
      "21\n"
     ]
    }
   ],
   "source": [
    "fun21()"
   ]
  },
  {
   "cell_type": "code",
   "execution_count": 3,
   "metadata": {},
   "outputs": [
    {
     "data": {
      "text/plain": [
       "21"
      ]
     },
     "execution_count": 3,
     "metadata": {},
     "output_type": "execute_result"
    }
   ],
   "source": [
    " 6+5+4+3+2+1"
   ]
  },
  {
   "cell_type": "code",
   "execution_count": null,
   "metadata": {},
   "outputs": [],
   "source": []
  }
 ],
 "metadata": {
  "kernelspec": {
   "display_name": "Python 3",
   "language": "python",
   "name": "python3"
  },
  "language_info": {
   "codemirror_mode": {
    "name": "ipython",
    "version": 3
   },
   "file_extension": ".py",
   "mimetype": "text/x-python",
   "name": "python",
   "nbconvert_exporter": "python",
   "pygments_lexer": "ipython3",
   "version": "3.8.5"
  }
 },
 "nbformat": 4,
 "nbformat_minor": 4
}
