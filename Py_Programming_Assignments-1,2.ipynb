{
 "cells": [
  {
   "cell_type": "code",
   "execution_count": 6,
   "metadata": {},
   "outputs": [],
   "source": [
    "\n",
    "\n",
    "def fun1(Morning):\n",
    "    \n",
    "    \"\"\"Printing Hello World\"\"\"\n",
    "     try:\n",
    "        if Morning == True:\n",
    "            print('Hello World!')\n",
    "        else:\n",
    "            print('Good Night WORLD!')\n",
    "    except:\n",
    "        print('I donno ENGLISH!!!')\n",
    "    \n"
   ]
  },
  {
   "cell_type": "code",
   "execution_count": null,
   "metadata": {},
   "outputs": [],
   "source": []
  },
  {
   "cell_type": "code",
   "execution_count": 8,
   "metadata": {},
   "outputs": [
    {
     "name": "stdout",
     "output_type": "stream",
     "text": [
      "Good Night WORLD!\n"
     ]
    }
   ],
   "source": [
    "fun1(False)"
   ]
  },
  {
   "cell_type": "code",
   "execution_count": 20,
   "metadata": {},
   "outputs": [],
   "source": [
    "def fun2():\n",
    "    \"\"\"Perform arithmatic operations like addition and division\"\"\"\n",
    "    \n",
    "    try:\n",
    "        a=int(input())\n",
    "        b=int(input())\n",
    "        adding=a+b\n",
    "        print('Addition of 2 nums is :',adding)\n",
    "        div= a/b\n",
    "        print('Division of 2 nums is :',div)\n",
    "    except:\n",
    "        raise Exception('Wrong way of doing')\n",
    "    \n",
    "    "
   ]
  },
  {
   "cell_type": "code",
   "execution_count": 21,
   "metadata": {},
   "outputs": [
    {
     "name": "stdout",
     "output_type": "stream",
     "text": [
      "23\n",
      "34\n",
      "Addition of 2 nums is : 57\n",
      "Division of 2 nums is : 0.6764705882352942\n"
     ]
    }
   ],
   "source": [
    "fun2()"
   ]
  },
  {
   "cell_type": "code",
   "execution_count": 32,
   "metadata": {},
   "outputs": [],
   "source": [
    "import logging\n",
    "def fun3():\n",
    "    \n",
    "    \"\"\" Area of Triangle A= (base * height)/2\"\"\"\n",
    "    \n",
    "    try:\n",
    "        b=int(input('Enter base value :'))\n",
    "        h=int(input('Enter height value :'))\n",
    "        \n",
    "        Area = (b * h)/2\n",
    "        \n",
    "        print('Area_of_triangle :',Area)\n",
    "        \n",
    "    except Exception as e:\n",
    "        logging.exception('Check if right values entered!',e)\n",
    "        "
   ]
  },
  {
   "cell_type": "code",
   "execution_count": 33,
   "metadata": {},
   "outputs": [
    {
     "name": "stdout",
     "output_type": "stream",
     "text": [
      "Enter base value :34\n",
      "Enter height value :12\n",
      "Area_of_triangle : 204.0\n"
     ]
    }
   ],
   "source": [
    "fun3()"
   ]
  },
  {
   "cell_type": "code",
   "execution_count": 36,
   "metadata": {},
   "outputs": [],
   "source": [
    "def fun4(a,b):\n",
    "    \n",
    "    \"\"\"Swap 2 variables\"\"\"\n",
    "    \n",
    "    a,b=b,a\n",
    "    \n",
    "    return a , b\n",
    "    "
   ]
  },
  {
   "cell_type": "code",
   "execution_count": 37,
   "metadata": {},
   "outputs": [
    {
     "data": {
      "text/plain": [
       "(3, 2)"
      ]
     },
     "execution_count": 37,
     "metadata": {},
     "output_type": "execute_result"
    }
   ],
   "source": [
    "fun4(2,3)"
   ]
  },
  {
   "cell_type": "code",
   "execution_count": 40,
   "metadata": {},
   "outputs": [],
   "source": [
    "import random\n",
    "def fun5():\n",
    "    \"\"\" generate random numbers!\"\"\"\n",
    "    \n",
    "    try:\n",
    "        r=random.randint(0,9)\n",
    "        return r\n",
    "    except exception as e:\n",
    "        print(e)\n",
    "        "
   ]
  },
  {
   "cell_type": "code",
   "execution_count": 41,
   "metadata": {},
   "outputs": [
    {
     "data": {
      "text/plain": [
       "2"
      ]
     },
     "execution_count": 41,
     "metadata": {},
     "output_type": "execute_result"
    }
   ],
   "source": [
    "fun5()"
   ]
  },
  {
   "cell_type": "markdown",
   "metadata": {},
   "source": [
    "# PY-HW2"
   ]
  },
  {
   "cell_type": "code",
   "execution_count": 62,
   "metadata": {},
   "outputs": [],
   "source": [
    "def fun6():\n",
    "    \"\"\" Code to convert Kilometers to miles\"\"\"\n",
    "    # 1mile= 0.621371 * kilometer\n",
    "    \n",
    "    try:\n",
    "        kilometer = float(input('Enter the Kilometers you want to convert! :'))\n",
    "        constant_val=0.621371\n",
    "        mile= constant_val * kilometer\n",
    "        r=round(mile,2)\n",
    "        print('km to mile converted!',r,'miles')\n",
    "    except Exception as e:\n",
    "        print('Exception Occured',e)\n",
    "    \n",
    "    \n",
    "    "
   ]
  },
  {
   "cell_type": "code",
   "execution_count": 63,
   "metadata": {},
   "outputs": [
    {
     "name": "stdout",
     "output_type": "stream",
     "text": [
      "Enter the Kilometers you want to convert! :r\n",
      "Exception Occured could not convert string to float: 'r'\n"
     ]
    }
   ],
   "source": [
    "fun6()"
   ]
  },
  {
   "cell_type": "code",
   "execution_count": 68,
   "metadata": {},
   "outputs": [],
   "source": [
    "def fun7():\n",
    "    \n",
    "    \"\"\"To convert Celcius to fahrenheit\"\"\"\n",
    "    \n",
    "    # F=C * (9/5) + 32\n",
    "    \n",
    "    # C= (5/9) * (F-32)\n",
    "    \n",
    "    try:\n",
    "        Celcius = float(input('Enter temp in Celcius degree :'))\n",
    "        F = Celcius * (9/5) + 32\n",
    "        return f'Fahrenheit:{F}'\n",
    "        \n",
    "    except:\n",
    "        print('Invalid Input')\n",
    "\n",
    "    "
   ]
  },
  {
   "cell_type": "code",
   "execution_count": 69,
   "metadata": {},
   "outputs": [
    {
     "name": "stdout",
     "output_type": "stream",
     "text": [
      "Enter temp in Celcius degree :8\n"
     ]
    },
    {
     "data": {
      "text/plain": [
       "'Fahrenheit:46.4'"
      ]
     },
     "execution_count": 69,
     "metadata": {},
     "output_type": "execute_result"
    }
   ],
   "source": [
    "fun7()"
   ]
  },
  {
   "cell_type": "code",
   "execution_count": 78,
   "metadata": {},
   "outputs": [],
   "source": [
    "import calendar\n",
    "def fun8():\n",
    "    \n",
    "    \"\"\" Display Calender\"\"\"\n",
    "    try:\n",
    "        # taking user inputs for year and month\n",
    "        Year = int(input('Enter the Year:'))\n",
    "        Month = int(input('Enter the Month :'))\n",
    "        print('\\n')\n",
    "        your_calendar=calendar.month(Year,Month)\n",
    "        print(your_calendar)\n",
    "        \n",
    "    except:\n",
    "        raise Exception('Enter Valid values')"
   ]
  },
  {
   "cell_type": "code",
   "execution_count": 79,
   "metadata": {},
   "outputs": [
    {
     "name": "stdout",
     "output_type": "stream",
     "text": [
      "Enter the Year:rf\n"
     ]
    },
    {
     "ename": "Exception",
     "evalue": "Enter Valid values",
     "output_type": "error",
     "traceback": [
      "\u001b[1;31m---------------------------------------------------------------------------\u001b[0m",
      "\u001b[1;31mValueError\u001b[0m                                Traceback (most recent call last)",
      "\u001b[1;32m<ipython-input-78-d4ab15ad6894>\u001b[0m in \u001b[0;36mfun7\u001b[1;34m()\u001b[0m\n\u001b[0;32m      6\u001b[0m         \u001b[1;31m# taking user inputs for year and month\u001b[0m\u001b[1;33m\u001b[0m\u001b[1;33m\u001b[0m\u001b[1;33m\u001b[0m\u001b[0m\n\u001b[1;32m----> 7\u001b[1;33m         \u001b[0mYear\u001b[0m \u001b[1;33m=\u001b[0m \u001b[0mint\u001b[0m\u001b[1;33m(\u001b[0m\u001b[0minput\u001b[0m\u001b[1;33m(\u001b[0m\u001b[1;34m'Enter the Year:'\u001b[0m\u001b[1;33m)\u001b[0m\u001b[1;33m)\u001b[0m\u001b[1;33m\u001b[0m\u001b[1;33m\u001b[0m\u001b[0m\n\u001b[0m\u001b[0;32m      8\u001b[0m         \u001b[0mMonth\u001b[0m \u001b[1;33m=\u001b[0m \u001b[0mint\u001b[0m\u001b[1;33m(\u001b[0m\u001b[0minput\u001b[0m\u001b[1;33m(\u001b[0m\u001b[1;34m'Enter the Month :'\u001b[0m\u001b[1;33m)\u001b[0m\u001b[1;33m)\u001b[0m\u001b[1;33m\u001b[0m\u001b[1;33m\u001b[0m\u001b[0m\n",
      "\u001b[1;31mValueError\u001b[0m: invalid literal for int() with base 10: 'rf'",
      "\nDuring handling of the above exception, another exception occurred:\n",
      "\u001b[1;31mException\u001b[0m                                 Traceback (most recent call last)",
      "\u001b[1;32m<ipython-input-79-93a001626483>\u001b[0m in \u001b[0;36m<module>\u001b[1;34m\u001b[0m\n\u001b[1;32m----> 1\u001b[1;33m \u001b[0mfun7\u001b[0m\u001b[1;33m(\u001b[0m\u001b[1;33m)\u001b[0m\u001b[1;33m\u001b[0m\u001b[1;33m\u001b[0m\u001b[0m\n\u001b[0m",
      "\u001b[1;32m<ipython-input-78-d4ab15ad6894>\u001b[0m in \u001b[0;36mfun7\u001b[1;34m()\u001b[0m\n\u001b[0;32m     12\u001b[0m \u001b[1;33m\u001b[0m\u001b[0m\n\u001b[0;32m     13\u001b[0m     \u001b[1;32mexcept\u001b[0m\u001b[1;33m:\u001b[0m\u001b[1;33m\u001b[0m\u001b[1;33m\u001b[0m\u001b[0m\n\u001b[1;32m---> 14\u001b[1;33m         \u001b[1;32mraise\u001b[0m \u001b[0mException\u001b[0m\u001b[1;33m(\u001b[0m\u001b[1;34m'Enter Valid values'\u001b[0m\u001b[1;33m)\u001b[0m\u001b[1;33m\u001b[0m\u001b[1;33m\u001b[0m\u001b[0m\n\u001b[0m",
      "\u001b[1;31mException\u001b[0m: Enter Valid values"
     ]
    }
   ],
   "source": [
    "fun8()"
   ]
  },
  {
   "cell_type": "code",
   "execution_count": 92,
   "metadata": {},
   "outputs": [],
   "source": [
    "import cmath\n",
    "def fun9():\n",
    "    \n",
    "    \n",
    "    \"\"\"Quadratic Equation\"\"\"\n",
    "    \n",
    "    # ax**2 + bx + c = 0\n",
    "    # where x= -b +- (sqrt(b**2 - 4ac))/2a\n",
    "    \n",
    "    a=int(input())\n",
    "    b=int(input())\n",
    "    c=int(input())\n",
    "    \n",
    "    d=(b**2) - (4 *a*c)\n",
    "    \n",
    "    sol1=(-b+cmath.sqrt(d))/(2*a)\n",
    "    sol2=(-b-cmath.sqrt(d))/(2*a)\n",
    "    \n",
    "    print('solution 1:',sol1)\n",
    "    print('solution 2:',sol2)"
   ]
  },
  {
   "cell_type": "code",
   "execution_count": 94,
   "metadata": {},
   "outputs": [
    {
     "name": "stdout",
     "output_type": "stream",
     "text": [
      "1\n",
      "5\n",
      "6\n",
      "solution 1 (-2+0j)\n",
      "solution 2 (-3+0j)\n"
     ]
    }
   ],
   "source": [
    "fun9()"
   ]
  },
  {
   "cell_type": "code",
   "execution_count": null,
   "metadata": {},
   "outputs": [],
   "source": []
  },
  {
   "cell_type": "code",
   "execution_count": 87,
   "metadata": {},
   "outputs": [],
   "source": [
    "def fun10():\n",
    "    \n",
    "    \"\"\"Swap 2 variables without temp variable\"\"\"\n",
    "    var1=int(input())\n",
    "    var2=int(input())\n",
    "    var1,var2 = var2,var1\n",
    "    \n",
    "    return var1 , var2"
   ]
  },
  {
   "cell_type": "code",
   "execution_count": 88,
   "metadata": {},
   "outputs": [
    {
     "name": "stdout",
     "output_type": "stream",
     "text": [
      "23\n",
      "12\n"
     ]
    },
    {
     "data": {
      "text/plain": [
       "(12, 23)"
      ]
     },
     "execution_count": 88,
     "metadata": {},
     "output_type": "execute_result"
    }
   ],
   "source": [
    "fun10()"
   ]
  },
  {
   "cell_type": "code",
   "execution_count": null,
   "metadata": {},
   "outputs": [],
   "source": []
  }
 ],
 "metadata": {
  "kernelspec": {
   "display_name": "Python 3",
   "language": "python",
   "name": "python3"
  },
  "language_info": {
   "codemirror_mode": {
    "name": "ipython",
    "version": 3
   },
   "file_extension": ".py",
   "mimetype": "text/x-python",
   "name": "python",
   "nbconvert_exporter": "python",
   "pygments_lexer": "ipython3",
   "version": "3.8.5"
  }
 },
 "nbformat": 4,
 "nbformat_minor": 4
}
