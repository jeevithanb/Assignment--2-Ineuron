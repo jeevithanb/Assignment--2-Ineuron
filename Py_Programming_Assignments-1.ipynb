{
 "cells": [
  {
   "cell_type": "code",
   "execution_count": 6,
   "metadata": {},
   "outputs": [],
   "source": [
    "\n",
    "\n",
    "def fun1(Morning):\n",
    "    \n",
    "    \"\"\"Printing Hello World\"\"\"\n",
    "     try:\n",
    "        if Morning == True:\n",
    "            print('Hello World!')\n",
    "        else:\n",
    "            print('Good Night WORLD!')\n",
    "    except:\n",
    "        print('I donno ENGLISH!!!')\n",
    "    \n"
   ]
  },
  {
   "cell_type": "code",
   "execution_count": 8,
   "metadata": {},
   "outputs": [
    {
     "name": "stdout",
     "output_type": "stream",
     "text": [
      "Good Night WORLD!\n"
     ]
    }
   ],
   "source": [
    "fun1(False)"
   ]
  },
  {
   "cell_type": "code",
   "execution_count": 20,
   "metadata": {},
   "outputs": [],
   "source": [
    "def fun2():\n",
    "    \"\"\"Perform arithmatic operations like addition and division\"\"\"\n",
    "    \n",
    "    try:\n",
    "        a=int(input())\n",
    "        b=int(input())\n",
    "        adding=a+b\n",
    "        print('Addition of 2 nums is :',adding)\n",
    "        div= a/b\n",
    "        print('Division of 2 nums is :',div)\n",
    "    except:\n",
    "        raise Exception('Wrong way of doing')\n",
    "    \n",
    "    "
   ]
  },
  {
   "cell_type": "code",
   "execution_count": 21,
   "metadata": {},
   "outputs": [
    {
     "name": "stdout",
     "output_type": "stream",
     "text": [
      "23\n",
      "34\n",
      "Addition of 2 nums is : 57\n",
      "Division of 2 nums is : 0.6764705882352942\n"
     ]
    }
   ],
   "source": [
    "fun2()"
   ]
  },
  {
   "cell_type": "code",
   "execution_count": 32,
   "metadata": {},
   "outputs": [],
   "source": [
    "import logging\n",
    "def fun3():\n",
    "    \n",
    "    \"\"\" Area of Triangle A= (base * height)/2\"\"\"\n",
    "    \n",
    "    try:\n",
    "        b=int(input('Enter base value :'))\n",
    "        h=int(input('Enter height value :'))\n",
    "        \n",
    "        Area = (b * h)/2\n",
    "        \n",
    "        print('Area_of_triangle :',Area)\n",
    "        \n",
    "    except Exception as e:\n",
    "        logging.exception('Check if right values entered!',e)\n",
    "        "
   ]
  },
  {
   "cell_type": "code",
   "execution_count": 33,
   "metadata": {},
   "outputs": [
    {
     "name": "stdout",
     "output_type": "stream",
     "text": [
      "Enter base value :34\n",
      "Enter height value :12\n",
      "Area_of_triangle : 204.0\n"
     ]
    }
   ],
   "source": [
    "fun3()"
   ]
  },
  {
   "cell_type": "code",
   "execution_count": 36,
   "metadata": {},
   "outputs": [],
   "source": [
    "def fun4(a,b):\n",
    "    \n",
    "    \"\"\"Swap 2 variables\"\"\"\n",
    "    \n",
    "    a,b=b,a\n",
    "    \n",
    "    return a , b\n",
    "    "
   ]
  },
  {
   "cell_type": "code",
   "execution_count": 37,
   "metadata": {},
   "outputs": [
    {
     "data": {
      "text/plain": [
       "(3, 2)"
      ]
     },
     "execution_count": 37,
     "metadata": {},
     "output_type": "execute_result"
    }
   ],
   "source": [
    "fun4(2,3)"
   ]
  },
  {
   "cell_type": "code",
   "execution_count": 40,
   "metadata": {},
   "outputs": [],
   "source": [
    "import random\n",
    "def fun5():\n",
    "    \"\"\" generate random numbers!\"\"\"\n",
    "    \n",
    "    try:\n",
    "        r=random.randint(0,9)\n",
    "        return r\n",
    "    except exception as e:\n",
    "        print(e)\n",
    "        "
   ]
  },
  {
   "cell_type": "code",
   "execution_count": 41,
   "metadata": {},
   "outputs": [
    {
     "data": {
      "text/plain": [
       "2"
      ]
     },
     "execution_count": 41,
     "metadata": {},
     "output_type": "execute_result"
    }
   ],
   "source": [
    "fun5()"
   ]
  },
  {
   "cell_type": "code",
   "execution_count": null,
   "metadata": {},
   "outputs": [],
   "source": []
  }
 ],
 "metadata": {
  "kernelspec": {
   "display_name": "Python 3",
   "language": "python",
   "name": "python3"
  },
  "language_info": {
   "codemirror_mode": {
    "name": "ipython",
    "version": 3
   },
   "file_extension": ".py",
   "mimetype": "text/x-python",
   "name": "python",
   "nbconvert_exporter": "python",
   "pygments_lexer": "ipython3",
   "version": "3.8.5"
  }
 },
 "nbformat": 4,
 "nbformat_minor": 4
}
